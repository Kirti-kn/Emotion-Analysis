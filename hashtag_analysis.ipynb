{
 "cells": [
  {
   "cell_type": "code",
   "execution_count": 1,
   "metadata": {},
   "outputs": [
    {
     "name": "stdout",
     "output_type": "stream",
     "text": [
      "WARNING:tensorflow:From c:\\Users\\kirti\\AppData\\Local\\Programs\\Python\\Python311\\Lib\\site-packages\\keras\\src\\losses.py:2976: The name tf.losses.sparse_softmax_cross_entropy is deprecated. Please use tf.compat.v1.losses.sparse_softmax_cross_entropy instead.\n",
      "\n"
     ]
    }
   ],
   "source": [
    "import pandas as pd\n",
    "import numpy as np\n",
    "import matplotlib.pyplot as plt\n",
    "import seaborn as sns\n",
    "from transformers import pipeline\n",
    "\n",
    "plt.style.use('ggplot')\n",
    "import nltk"
   ]
  },
  {
   "cell_type": "code",
   "execution_count": 2,
   "metadata": {},
   "outputs": [],
   "source": [
    "from transformers import AutoTokenizer, AutoModelForSequenceClassification\n",
    "import torch"
   ]
  },
  {
   "cell_type": "code",
   "execution_count": 8,
   "metadata": {},
   "outputs": [
    {
     "data": {
      "application/vnd.jupyter.widget-view+json": {
       "model_id": "490d55257ea74cd3b962da427e3ee383",
       "version_major": 2,
       "version_minor": 0
      },
      "text/plain": [
       "tokenizer_config.json:   0%|          | 0.00/28.0 [00:00<?, ?B/s]"
      ]
     },
     "metadata": {},
     "output_type": "display_data"
    },
    {
     "name": "stderr",
     "output_type": "stream",
     "text": [
      "c:\\Users\\kirti\\AppData\\Local\\Programs\\Python\\Python311\\Lib\\site-packages\\huggingface_hub\\file_download.py:148: UserWarning: `huggingface_hub` cache-system uses symlinks by default to efficiently store duplicated files but your machine does not support them in C:\\Users\\kirti\\.cache\\huggingface\\hub\\models--distilbert-base-uncased. Caching files will still work but in a degraded version that might require more space on your disk. This warning can be disabled by setting the `HF_HUB_DISABLE_SYMLINKS_WARNING` environment variable. For more details, see https://huggingface.co/docs/huggingface_hub/how-to-cache#limitations.\n",
      "To support symlinks on Windows, you either need to activate Developer Mode or to run Python as an administrator. In order to see activate developer mode, see this article: https://docs.microsoft.com/en-us/windows/apps/get-started/enable-your-device-for-development\n",
      "  warnings.warn(message)\n"
     ]
    },
    {
     "data": {
      "application/vnd.jupyter.widget-view+json": {
       "model_id": "de7845b6076e4fd4bdd0cc8fc2c393bd",
       "version_major": 2,
       "version_minor": 0
      },
      "text/plain": [
       "config.json:   0%|          | 0.00/483 [00:00<?, ?B/s]"
      ]
     },
     "metadata": {},
     "output_type": "display_data"
    },
    {
     "data": {
      "application/vnd.jupyter.widget-view+json": {
       "model_id": "1f55553847b74afdb45399e3437ca3eb",
       "version_major": 2,
       "version_minor": 0
      },
      "text/plain": [
       "vocab.txt:   0%|          | 0.00/232k [00:00<?, ?B/s]"
      ]
     },
     "metadata": {},
     "output_type": "display_data"
    },
    {
     "data": {
      "application/vnd.jupyter.widget-view+json": {
       "model_id": "7c6888aa313b4e91b8d1e1557709c8aa",
       "version_major": 2,
       "version_minor": 0
      },
      "text/plain": [
       "tokenizer.json:   0%|          | 0.00/466k [00:00<?, ?B/s]"
      ]
     },
     "metadata": {},
     "output_type": "display_data"
    },
    {
     "data": {
      "application/vnd.jupyter.widget-view+json": {
       "model_id": "3c30bfac1496468fbdf8654a1e2b356a",
       "version_major": 2,
       "version_minor": 0
      },
      "text/plain": [
       "model.safetensors:   0%|          | 0.00/268M [00:00<?, ?B/s]"
      ]
     },
     "metadata": {},
     "output_type": "display_data"
    },
    {
     "name": "stderr",
     "output_type": "stream",
     "text": [
      "Error while downloading from https://cdn-lfs.huggingface.co/distilbert-base-uncased/5e3f1108e3cb34ee048634875d8482665b65ac713291a7e32396fb18f6ff0063?response-content-disposition=attachment%3B+filename*%3DUTF-8%27%27model.safetensors%3B+filename%3D%22model.safetensors%22%3B&Expires=1713528038&Policy=eyJTdGF0ZW1lbnQiOlt7IkNvbmRpdGlvbiI6eyJEYXRlTGVzc1RoYW4iOnsiQVdTOkVwb2NoVGltZSI6MTcxMzUyODAzOH19LCJSZXNvdXJjZSI6Imh0dHBzOi8vY2RuLWxmcy5odWdnaW5nZmFjZS5jby9kaXN0aWxiZXJ0LWJhc2UtdW5jYXNlZC81ZTNmMTEwOGUzY2IzNGVlMDQ4NjM0ODc1ZDg0ODI2NjViNjVhYzcxMzI5MWE3ZTMyMzk2ZmIxOGY2ZmYwMDYzP3Jlc3BvbnNlLWNvbnRlbnQtZGlzcG9zaXRpb249KiJ9XX0_&Signature=T8hxTOjGcBT%7EX7pu%7EI8nOauKbG0yT9l-sGNb8hB5aNylRhQqrGjOY8IeV4RTc8c38CNXPhv2cn8pL1kNHFJtxHDLBfCSDBIJCJ0rU13-3S1jtanPqlSzxjUOEN5Mwll2sAh8GW2qWhplx1uIV-9jTVPGCKPgj1mn0eaTBP5Kz2M7vU9SfBKBfnNe1nJqsLqI6QlzXlGez70snjngAyvFGFohLwXTTJJc5c-bC56iP8qUeBFILxoocIlSIEmOodp5S%7E2rQl0LPtNv5NwspYaEw0vH47vMhWh305nk7YsxfNdzMbPEhwJneGDTI-dBh1aQwqVn2RLVB92%7EwxOzTqo2fg__&Key-Pair-Id=KVTP0A1DKRTAX: HTTPSConnectionPool(host='cdn-lfs.huggingface.co', port=443): Read timed out.\n",
      "Trying to resume download...\n"
     ]
    },
    {
     "data": {
      "application/vnd.jupyter.widget-view+json": {
       "model_id": "53acefc27b894a84ad641466a58eb079",
       "version_major": 2,
       "version_minor": 0
      },
      "text/plain": [
       "model.safetensors:   8%|7         | 21.0M/268M [00:00<?, ?B/s]"
      ]
     },
     "metadata": {},
     "output_type": "display_data"
    },
    {
     "name": "stderr",
     "output_type": "stream",
     "text": [
      "Some weights of DistilBertForSequenceClassification were not initialized from the model checkpoint at distilbert-base-uncased and are newly initialized: ['classifier.bias', 'classifier.weight', 'pre_classifier.bias', 'pre_classifier.weight']\n",
      "You should probably TRAIN this model on a down-stream task to be able to use it for predictions and inference.\n"
     ]
    }
   ],
   "source": [
    "# Load the pre-trained model and tokenizer\n",
    "tokenizer = AutoTokenizer.from_pretrained(\"distilbert-base-uncased\")\n",
    "model = AutoModelForSequenceClassification.from_pretrained(\"distilbert-base-uncased\")"
   ]
  },
  {
   "cell_type": "code",
   "execution_count": 3,
   "metadata": {},
   "outputs": [],
   "source": [
    "df = pd.read_csv('instagram_data.csv')"
   ]
  },
  {
   "cell_type": "code",
   "execution_count": 4,
   "metadata": {},
   "outputs": [],
   "source": [
    "for i in range(len(df['Hashtags'])):\n",
    "    if (type(df['Hashtags'][i])!=str):\n",
    "        df['Hashtags'][i]= str(df['Hashtags'][i])"
   ]
  },
  {
   "cell_type": "code",
   "execution_count": 5,
   "metadata": {},
   "outputs": [],
   "source": [
    "text_set = set()\n",
    "for i in df['Hashtags']:\n",
    "    words=i.split()\n",
    "    for hashes in words:\n",
    "        text_set.add(hashes[1:].lower())"
   ]
  },
  {
   "cell_type": "code",
   "execution_count": 11,
   "metadata": {},
   "outputs": [],
   "source": [
    "hash_str = \"\"\n",
    "for i in text_set:\n",
    "    hash_str += ',' + i"
   ]
  },
  {
   "cell_type": "code",
   "execution_count": 12,
   "metadata": {},
   "outputs": [
    {
     "name": "stdout",
     "output_type": "stream",
     "text": [
      ",,musicvideo,,bts,,50k,,varunaliaforever,,shayariquotes,,instafood,,odiacomedy,,radhe,,original,,architecturelovers,,vibe,,lovelifelines,,maa,,akkination🌙,,danishzehen,,varuniacs_world,,engenheiro,,lifepartner,,varundvncuteness,,dj,,hardikpandya,,kaizukiedit,,matlabi,,ridersofkerala,,hardikpandya93,,building,,avneetkaur,,kali,,ktmlovers,,anime,,sbhuebros,lovesong,lyricsedits,,btsarmy,,trendingreels,,odiastatus,,dard,,followforfollowback,,ktmofficial,,artist,,dadlove,,btsv,,차은우,,sadreels,,respect,,yimmyyimmy,,varunians,,riifam,,rubinadilaik,,feelthesong,,deepugarasiya,,viralsadreels💔,,anushkasen,tollywood,,2mviews,,bangtanboys,,sadboy,,ktmrc200,,nature,,momlove,,loveatfirstsight,,azlan_khann_,,arshifakhan,,chickenlegpiece,,viratkharadi8384,,❤️‍🩹🥺🥀✨🔐_𝓶𝓲𝓼𝓼_𝔂𝓸𝓾_𝔖💙😍❤️‍🩹🥀🥀🔥💯💯🖤🖤,,sadsongs💔,,thepkg09rider,,explopage,,reelinstagram,,duke390,,explore,premmandir,,tamil,,bhojpuri,,karala,,okamarukalisina_andham,,arijitsingh,,couple,,status,,ai,,fypシ,,lyricsvideo,,권선율,rohittt_09_,,shayri,,ktmlove,,ambemaa,,celebrity,,reactionboi,,likes,,world,,view,,quotes,,radharani,,riyaz14,,saleheenfirdous,,dostistatus,,an,writers,,odiamusic,,explorepage✨,,loveshayari,,gymbro,,exercise,,イドンミン,,lyrics,,telugudjsongs,,literature,,luckydancer,,nishaguragain97,,karalrider,,telugumemes,,hindipoetry,,morningwalk,,hardik,,cute,varundvn_smarty,,varundvnn_fc,animeedit,,leafshinobi,,trendingaudios,,odiamuser,,instagood,,deepakians,,loveqoutesforhim,,reizeiclub,,nonveglovers,,contstruction,,gulzar_poetry,,teamhk,,instadaily,,deadpool.,explorepage,,banswara_shoutout,,engineer,,poetry,,tamilwhatsappstatus,,reelquotes,,viralreels,instagoods,,newtrending,,ktmduke390,,trendingsongs,,myniche,,pose_maker,,simplelook,,viralreels,,cricketfans,,love.emotions_9,,writing,,feel,,instareels,,telugusongs,bengali,,zoro,,art,,algorithms,,trending,,loveislife💕,shayeri,,funnyreels,,lovebites,,4kstatus,,carryminati,,facegenius,,arquitetura,,thoughts,,foryou,,video,starboination🌙,,followtrainhyper,,chalbhajjchaliye,shorts,,team07,,malayalam,,navratrispecial,,splender,,shayari,,spotify,,radheshyam❤️,,lovestatus,,writersofinstagram,,narutoamv,faizfa,,bestfriends,,heartbreakquotes,,civilengineer,,faisusquad,,gym,,bride,,chaeunwoo,,shortvideo,,whistlepodu,faisu,,cricket,,friendshipgoals,,mahadevreels,,explorepage✨,ktmindia,,brekupstatus,,eunwoo,,reelsvideo,,awezdarbar,,amarsinghchamkilaonnetflix,,brokenheartstatus,,love💝💝💝,,loveforever,,bankebihari,loverpage,,writes,,hindishayari,,maakali,,interior,,hearttouching,,movingon,,shreyaghoshal,reelsindia,,urdupoetry,,vrindavandham,,gulzar,,radheradhe❤️,,bewafashayari,,loveisland,,kungfupandya,,fambruharmy,,odia,,loveyourselfquotes,,howthingsaremade,,shayar,,interiordesign,,trendingvideos,,aliabhatt,,hindiquotes,,muttonlovers,,tags,,odiareelsvideo,aesthesicsreels,,telugudjmix,,apoetfromkashmir,,lines,,queenrubina,,mumbai,,trend,,tiktok,,thepkg09rider,splenderlover,,civilengineering,,lyricalvideo,,v,,friendship💙,,heart,,keeploving,,ipl,,cartoonlyrics,,rubiholics,,jannatzubair,,writer,,tayc,,astro,,lightacademia,,asthetic,,architectural,,interiordesigner,,first,,ktmofficialindia,,kakashiarts,,radheshyam,,lovediary,,🕊🥀,,rohitsharma,,abbu,,matarani👣,,bikelovers,,whatsappstatus,,morningmotivation,,animeedits,,newsong,,concrete,,jigriyaar❤️,,newpost😍,,이동민,,reels,,photoshop,,song,,odisha,,reelsinstagram,,sadstatus,kimtaehyung,,sadshayari,,tagsomeone,,majnu,,btsforever,frnds,,faisusquad❤️,,naruto,,rajnishkhanuja,its_ashish_creater,,addylovers,,trendingreels,jannatians,,aesthesics,,bollywoodsongs,,chidori,,architecture,,contentcreator,,bikersofinstagram,,100k,,viral,,ktmindiaofficial,,architects,,sharingan,,cristianoronaldo,,hatakekakashi,,narutoshippuden,,kakashiedit,,video,,shubmangill,kwonseonyul,,lifequotes,,radharadha,,hindisongs,,onesidelovers,,moviequotes,,jaimatadi❤,,creater,,gymaddict,bangtansonyeondan,,instagramgrowth,,kanguva,hardikpandyafc,,architect,,arquiteturaeurbanismo,,odiastatu,,anjaliarora,,izzat,nostalgia,,outfitoftheday,,kanhaji,,narutoedit,,lovediary💕,,actorsurya,,jacquelinefernandez,,love,,bollywoodshayari,,mr_writes_009_,,wonderfulworld,,ktmduke200,,explore,,lovestaus,,bdarmy🇧🇩,,okamaarukalisinaandhamsong🎶❤️,,kbye,,pain,,lovequotes,podcast,,dosti,,academia,,foryoupage,,radhakrishnan,,telugu,,,,leedongmin,,follow,,チャウヌ,,vkcouple04,poetrycommunity,,bikeride,,riyaz,,아스트로,,artificialintelligence,,popular,viralvideos,,telugufolksongstatus,,ktmlover,,animeedition,,construçâo,,moodoff😔💔,,odiasong,,cute,,varundhawanrocks,,savage,,tagyourlove,,maadurga,,reels,friends,,brokenfriendship,,anbu,,instagram,,arquiteturadeinteriore,you,,instareels,duke125,,hatake,,원더풀월드,,skvmart,,engcivil,,inderchahal,,reelkofeelkaro,,teluguactress,,viralpost❤️,engenhariacivil,,fyp,,lailamajnu,,varundhwan,,relatives,,duke390❤️,,krishna,,gtvsrr,,snore,,duke250,,instagramreels,,shinobi,,reels#fyb#video#kimtaehyung#btslover,tusharsilawat,,exploremore,,nita,,lovequotes,,mahadevbhakt,,ganeshnation🌙️,,papa,,vikimavi,,bossladyrubina,,inatagramreels❤️,,funny,,feelings,,streetphotogryindia,,🥀🥀अधूरी_मोहब्बत🥺💔🥀,loveyourself,,fambruh,,王子様,,prince,,adorable,,insta,,gujjulove,,kakashiedits,,reelkarofeelkaro,artworksclub,,fyp,couplegoals,,aliaabhattmagic,,❤️☺️,,haryanvistatus,narutodrawings,,moonlovers,,mcstan,,ulhaskamthe,engenharia,,darkacademia,,susanoo,,vairalreels,,🥰,instastar,,rockstarmovie,udaipurlove,,kakashiart,,ridersofi,life,,kakashi,,santoormom,,relatable,bikegram__kerala,,lovely,,instalyricsvideo,,projeto,,broken💔,,odiacouple,,dukereels,,kerala,,captain,,odiareels,,shayarilover,,reactionboi💫,,mom,,lyricsreels,,mahadevstatus,,❤️‍🩹🖇👀🌍🥰_______________◀️follow◀️_like______❤___follow__me__,,🖤🥺🥀❤️‍🩹ــــــــــــــہہہـ٨ـــ٨,,loveislove,,dukelovers,,sadshayari,howthingswork,,sad,,explorepage,hokage,,explainingthings,🥰,,reelitfeelit,,pyar,,09x😠🔫💯😎,bewafa,,hindi,,buildings,,은우,,laila,,narutoedits,,keepsupporting,,loveheart,,dukelover,,interiors,,reelkarofeelkaro,,engineering,,jacquelinefernandez’,,ktmduke250,,newpost,,relationships,,kakashihatake,,ktmduke,trendingaudio,,harharmahadev,anjimaxu,,lovethem,,gymmemes,,jaymataji🙏,,kanha,,reelkarofeelkaro❤,,alonestatus,,winter,,lovestaus,reelindia,,duke200🖤🖤,,btsarmyforever,,radha,,kalimaa,,sonu3032s,loveshayri,,radheradhe,,friendship,,snoring,,reelsinstagram,fatherhood,,lovesit,,goals,,digitel,wedding,,vrindavan,,telugusongs,,featureme,\n"
     ]
    }
   ],
   "source": [
    "print(hash_str)"
   ]
  },
  {
   "cell_type": "code",
   "execution_count": 13,
   "metadata": {},
   "outputs": [],
   "source": [
    "import google.generativeai as genai"
   ]
  },
  {
   "cell_type": "code",
   "execution_count": 14,
   "metadata": {},
   "outputs": [],
   "source": [
    "genai.configure(api_key=\"your_api_key\")"
   ]
  },
  {
   "cell_type": "code",
   "execution_count": 20,
   "metadata": {},
   "outputs": [
    {
     "name": "stdout",
     "output_type": "stream",
     "text": [
      "**Sentiment Analysis:**\n",
      "\n",
      "The reel is likely to evoke a mix of positive and negative emotions. The presence of hashtags such as \"#musicvideo\", \"#shayariquotes\", \"#lovelifelines\", \"#vibe\", and \"#relationships\" indicate that the reel may contain romantic or uplifting content. However, hashtags like \"#sadreels\", \"#dard\", \"💔\", and \"🖤🥺🥀❤️‍🩹\" suggest that it may also include themes of sadness or heartbreak.\n",
      "\n",
      "**Potential Emotion Generated by the Reel:**\n",
      "\n",
      "**1. Nostalgia:**\n",
      "Hashtags like \"#oldsongs\" and \"🎵🎶 Throwback\" hint at a reflective or nostalgic mood.\n",
      "\n",
      "**2. Love and Romance:**\n",
      "The presence of hashtags such as \"#lovelifelines\", \"#couple\", \"#heart\", and \"#loveislove\" suggests that the reel may evoke feelings of love and romance.\n",
      "\n",
      "**3. Sadness and Heartbreak:**\n",
      "Hashtags like \"#sadreels\", \"#dard\", \"💔\", and \"🖤🥺🥀❤️‍🩹\" indicate that the reel may deal with themes of sadness, heartbreak, or loss.\n",
      "\n",
      "**4. Inspiration and Positivity:**\n",
      "Hashtags such as \"#vibe\", \"#motivation\", and \"#inspiration\" suggest that the reel may contain uplifting or inspiring content.\n",
      "\n",
      "**5. Anger and Frustration:**\n",
      "The hashtag \"09x😠🔫💯😎\" could potentially indicate a negative emotion such as anger or frustration.\n",
      "\n",
      "**Detection of Mental State:**\n",
      "\n",
      "Based on the hashtags present, the user may be experiencing a combination of emotions, including nostalgia, sadness, longing, love, and inspiration. The contrast between positive and negative hashtags suggests that the user may be in a state of emotional flux or ambivalence. It is important to note that this analysis is based solely on the hashtags and does not take into account other factors such as the content of the reel itself.\n"
     ]
    }
   ],
   "source": [
    "# Set up the model\n",
    "generation_config = {\n",
    "  \"temperature\": 0.9,\n",
    "  \"top_p\": 1,\n",
    "  \"top_k\": 1,\n",
    "  \"max_output_tokens\": 3000,\n",
    "}\n",
    "\n",
    "safety_settings = [\n",
    "  {\n",
    "    \"category\": \"HARM_CATEGORY_HARASSMENT\",\n",
    "    \"threshold\": \"BLOCK_MEDIUM_AND_ABOVE\"\n",
    "  },\n",
    "  {\n",
    "    \"category\": \"HARM_CATEGORY_HATE_SPEECH\",\n",
    "    \"threshold\": \"BLOCK_MEDIUM_AND_ABOVE\"\n",
    "  },\n",
    "  {\n",
    "    \"category\": \"HARM_CATEGORY_SEXUALLY_EXPLICIT\",\n",
    "    \"threshold\": \"BLOCK_MEDIUM_AND_ABOVE\"\n",
    "  },\n",
    "  {\n",
    "    \"category\": \"HARM_CATEGORY_DANGEROUS_CONTENT\",\n",
    "    \"threshold\": \"BLOCK_MEDIUM_AND_ABOVE\"\n",
    "  },\n",
    "]\n",
    "\n",
    "model = genai.GenerativeModel(model_name=\"gemini-1.0-pro\", generation_config=generation_config, safety_settings=safety_settings)\n",
    "\n",
    "prompt_parts = [\n",
    "  \"A hastag shown to user in instagram, give the sentiment analysis and the potential emotion generated by the reel. Detect the mental state of the user as reels are being recommended based on their preferences\",\n",
    "  f\"input:{hash_str}\", \"output: \"]\n",
    "\n",
    "\n",
    "response = model.generate_content(prompt_parts)\n",
    "print(response.text)\n",
    "\n"
   ]
  },
  {
   "cell_type": "code",
   "execution_count": 21,
   "metadata": {},
   "outputs": [
    {
     "name": "stdout",
     "output_type": "stream",
     "text": [
      "**Top 5 Sentiment Categories:**\n",
      "\n",
      "1. **Love:** 24.3%\n",
      "2. **Happiness:** 16.7%\n",
      "3. **Sadness:** 12.5%\n",
      "4. **Friendship:** 8.3%\n",
      "5. **Inspiration:** 6.3%\n",
      "\n",
      "**Mental State:**\n",
      "\n",
      "Based on the sentiment analysis, the user is likely experiencing a **mixed emotional state**. The majority of their reels (24.3%) reflect positive emotions of love, happiness, and friendship. However, a significant portion (12.5%) also indicate sadness and loneliness. This suggests that the user may be navigating conflicting emotions, perhaps feeling both happy and loved in some areas of their life but also struggling with moments of sadness or isolation.\n"
     ]
    }
   ],
   "source": [
    "prompt_parts = [\n",
    "  \"Detect the top 3 to 5 sentiment categories with percentage based on the hashtages of the reel of user. Detect the mental state of the user as reels are being recommended based on their preferences\",\n",
    "  f\"input:{hash_str}\", \"output: \"]\n",
    "\n",
    "response = model.generate_content(prompt_parts)\n",
    "print(response.text)\n"
   ]
  }
 ],
 "metadata": {
  "kernelspec": {
   "display_name": "Python 3",
   "language": "python",
   "name": "python3"
  },
  "language_info": {
   "codemirror_mode": {
    "name": "ipython",
    "version": 3
   },
   "file_extension": ".py",
   "mimetype": "text/x-python",
   "name": "python",
   "nbconvert_exporter": "python",
   "pygments_lexer": "ipython3",
   "version": "3.11.2"
  }
 },
 "nbformat": 4,
 "nbformat_minor": 2
}
